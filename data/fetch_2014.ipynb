{
 "cells": [
  {
   "cell_type": "code",
   "execution_count": 1,
   "metadata": {},
   "outputs": [],
   "source": [
    "# load libraries\n",
    "import xarray as xr\n",
    "import numpy as np\n",
    "\n",
    "from argopy import DataFetcher as ArgoDataFetcher\n",
    "\n",
    "from datetime import datetime, timedelta\n",
    "import pandas as pd\n",
    "\n",
    "# User defined functions:\n",
    "def get_argo_region_data(llon,rlon,llat,ulat,depthmin,depthmax,time_in,time_f):\n",
    "    \n",
    "    \"\"\"Function to get argo data for a given lat,lon box (using Argopy), \n",
    "       and return a 2D array collection of vertical profile for the given region\n",
    "    \n",
    "    Parameters\n",
    "    ----------\n",
    "    llon : int\n",
    "        left longitude\n",
    "    rlon : int\n",
    "        right longtidue\n",
    "    ulat : int\n",
    "        upper latitude\n",
    "    llat : int\n",
    "        lower latitude\n",
    "    time_in : str/datetime object\n",
    "        the start time of desired range, formatted Y-m-d\n",
    "    time_f : str/datetime object\n",
    "        the end time of desired range, formatted Y-m-d\n",
    "    \n",
    "    \n",
    "    Returns\n",
    "    ---------\n",
    "    xarray\n",
    "        The result is a xarray of the vertical profile for the given range and region.\n",
    "        \n",
    "    \n",
    "    \"\"\"\n",
    "\n",
    "    ds_points = ArgoDataFetcher(src='erddap').region([llon,rlon, llat,ulat, depthmin, depthmax,time_in,time_f]).to_xarray()\n",
    "    ds_profiles = ds_points.argo.point2profile()\n",
    "    return ds_profiles\n",
    "\n",
    "def spliced_argo_region_data(llon,rlon,llat,ulat,depthmin,depthmax,time_start,time_end):\n",
    "    \"\"\"Function that gets the argo data for given latitude and longitude bounding box\n",
    "       (using Argopy), and given start and end time range to return a 2D array collection of vertical\n",
    "       profile for the given region and time frame\n",
    "    \n",
    "    Parameters\n",
    "    ----------\n",
    "    llon : int\n",
    "        left longitude\n",
    "    rlon : int\n",
    "        right longtidue\n",
    "    ulat : int\n",
    "        upper latitude\n",
    "    llat : int\n",
    "        lower latitude\n",
    "    time_in : str/datetime object\n",
    "        the start time of desired range, formatted Y-m-d\n",
    "    time_f : str/datetime object\n",
    "        the end time of desired range, formatted Y-m-d\n",
    "    \n",
    "    \n",
    "    Returns\n",
    "    ---------\n",
    "    xarray\n",
    "        The result is a xarray of the vertical profile for the given range and region.\n",
    "        \n",
    "    \n",
    "    \"\"\"\n",
    "\n",
    "    \n",
    "    #step\n",
    "    max_dt = timedelta(days = 10)\n",
    "    \n",
    "    if isinstance(time_start, str):\n",
    "        time_start = datetime.strptime(time_start,\"%Y-%m-%d\")\n",
    "    if isinstance(time_end, str):\n",
    "        time_end = datetime.strptime(time_end,\"%Y-%m-%d\")\n",
    "        \n",
    "    if time_end - time_start <= max_dt:\n",
    "        ds = get_argo_region_data(llon,rlon,llat,ulat,depthmin,depthmax,time_start,time_end)\n",
    "        return ds\n",
    "    else:\n",
    "        early_end = time_start+max_dt\n",
    "        ds = get_argo_region_data(llon,rlon,llat,ulat,depthmin,depthmax,time_start,early_end)\n",
    "        print(\"Retrived data from \" + str(time_start) + \" to \" + str(early_end) + \", retreived \" + str(len(ds.N_PROF)) + \" profiles\")\n",
    "        ds2 = spliced_argo_region_data(llon,rlon,llat,ulat,depthmin,depthmax, early_end,time_end)\n",
    "        return xr.concat([ds,ds2],dim='N_PROF')\n"
   ]
  },
  {
   "cell_type": "code",
   "execution_count": 6,
   "metadata": {},
   "outputs": [
    {
     "name": "stdout",
     "output_type": "stream",
     "text": [
      "Retrived data from 2014-01-01 00:00:00 to 2014-01-11 00:00:00, retreived 525 profiles\n",
      "Retrived data from 2014-01-11 00:00:00 to 2014-01-21 00:00:00, retreived 532 profiles\n",
      "Retrived data from 2014-01-21 00:00:00 to 2014-01-31 00:00:00, retreived 517 profiles\n",
      "Retrived data from 2014-01-31 00:00:00 to 2014-02-10 00:00:00, retreived 533 profiles\n",
      "Retrived data from 2014-02-10 00:00:00 to 2014-02-20 00:00:00, retreived 552 profiles\n"
     ]
    }
   ],
   "source": [
    "llon=-90;rlon=0\n",
    "ulat=70;llat=0 \n",
    "depthmin=0;depthmax=1400\n",
    "time_start='2014-01-01'\n",
    "time_end='2014-03-01'\n",
    "ds=spliced_argo_region_data(llon,rlon,llat,ulat,depthmin,depthmax,time_start,time_end)"
   ]
  },
  {
   "cell_type": "code",
   "execution_count": 7,
   "metadata": {},
   "outputs": [],
   "source": [
    "year=2014\n",
    "ds.to_netcdf(str('/home/jovyan/ohw20-proj-pyxpcm/data/winter'+str(year)+'.nc'))"
   ]
  },
  {
   "cell_type": "code",
   "execution_count": 2,
   "metadata": {},
   "outputs": [
    {
     "name": "stdout",
     "output_type": "stream",
     "text": [
      "Retrived data from 2014-07-01 00:00:00 to 2014-07-11 00:00:00, retreived 587 profiles\n",
      "Retrived data from 2014-07-11 00:00:00 to 2014-07-21 00:00:00, retreived 615 profiles\n",
      "Retrived data from 2014-07-21 00:00:00 to 2014-07-31 00:00:00, retreived 581 profiles\n",
      "Retrived data from 2014-07-31 00:00:00 to 2014-08-10 00:00:00, retreived 570 profiles\n",
      "Retrived data from 2014-08-10 00:00:00 to 2014-08-20 00:00:00, retreived 580 profiles\n",
      "Retrived data from 2014-08-20 00:00:00 to 2014-08-30 00:00:00, retreived 562 profiles\n"
     ]
    }
   ],
   "source": [
    "llon=-90;rlon=0\n",
    "ulat=70;llat=0 \n",
    "depthmin=0;depthmax=1400\n",
    "time_start='2014-07-01'\n",
    "time_end='2014-09-01'\n",
    "ds=spliced_argo_region_data(llon,rlon,llat,ulat,depthmin,depthmax,time_start,time_end)"
   ]
  },
  {
   "cell_type": "code",
   "execution_count": 3,
   "metadata": {},
   "outputs": [],
   "source": [
    "year=2014\n",
    "ds.to_netcdf(str('/home/jovyan/ohw20-proj-pyxpcm/data/summer'+str(year)+'.nc'))"
   ]
  },
  {
   "cell_type": "code",
   "execution_count": null,
   "metadata": {},
   "outputs": [],
   "source": []
  }
 ],
 "metadata": {
  "kernelspec": {
   "display_name": "Python [conda env:ohw20-proj-pyxpcm]",
   "language": "python",
   "name": "conda-env-ohw20-proj-pyxpcm-py"
  },
  "language_info": {
   "codemirror_mode": {
    "name": "ipython",
    "version": 3
   },
   "file_extension": ".py",
   "mimetype": "text/x-python",
   "name": "python",
   "nbconvert_exporter": "python",
   "pygments_lexer": "ipython3",
   "version": "3.8.5"
  }
 },
 "nbformat": 4,
 "nbformat_minor": 4
}
